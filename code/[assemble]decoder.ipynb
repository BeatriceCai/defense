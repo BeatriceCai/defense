{
 "cells": [
  {
   "cell_type": "code",
   "execution_count": 1,
   "id": "presidential-admission",
   "metadata": {},
   "outputs": [],
   "source": [
    "%load_ext autoreload\n",
    "%autoreload 2"
   ]
  },
  {
   "cell_type": "code",
   "execution_count": 2,
   "id": "afraid-exception",
   "metadata": {},
   "outputs": [],
   "source": [
    "import argparse\n",
    "import pandas as pd\n",
    "import numpy as np\n",
    "import warnings\n",
    "warnings.filterwarnings('ignore')\n",
    "import torch\n",
    "import torch.nn as nn\n",
    "from torch import optim"
   ]
  },
  {
   "cell_type": "code",
   "execution_count": 20,
   "id": "irish-repeat",
   "metadata": {},
   "outputs": [],
   "source": [
    "from NLPfunctions import *\n",
    "from NLPmodels import *\n",
    "from NLPutils import *\n",
    "from NLP_data_utils import *"
   ]
  },
  {
   "cell_type": "code",
   "execution_count": 3,
   "id": "awful-substance",
   "metadata": {},
   "outputs": [],
   "source": [
    "from utils_DRD import get_repr_DTI"
   ]
  },
  {
   "cell_type": "code",
   "execution_count": 4,
   "id": "stock-force",
   "metadata": {},
   "outputs": [],
   "source": [
    "from data_tool_box_DRD import str2bool, load_pkl\n",
    "# from DTI_meta_MAML_DRD import meta_DTI_MAML\n",
    "from models_MAML import DTI_model_MAML"
   ]
  },
  {
   "cell_type": "code",
   "execution_count": 5,
   "id": "fallen-inclusion",
   "metadata": {},
   "outputs": [],
   "source": [
    "parser=argparse.ArgumentParser()\n",
    "parser.add_argument('--frozen',default=\"none\",type=str)\n",
    "parser.add_argument('--cwd',default=\"../\",type=str)\n",
    "parser.add_argument('--batch_size',default=6,type=int)\n",
    "parser.add_argument('--meta_lr',default=1e-3,type=float)\n",
    "parser.add_argument('--global_MAML_step', default=20, type=int,\n",
    "                    help='Number of global training steps, i.e. numberf of mini-batches ')\n",
    "parser.add_argument('--val_range',default=26,type=int)\n",
    "opt= parser.parse_args('')"
   ]
  },
  {
   "cell_type": "code",
   "execution_count": 6,
   "id": "generous-translator",
   "metadata": {},
   "outputs": [],
   "source": [
    "args = {}\n",
    "args.update(vars(opt))"
   ]
  },
  {
   "cell_type": "code",
   "execution_count": 7,
   "id": "australian-aberdeen",
   "metadata": {},
   "outputs": [],
   "source": [
    "# train = pd.read_csv('../data/train_tokenized.csv')\n",
    "train = pd.read_pickle('../data/train_tokenized.pkl')\n",
    "# test=pd.read_csv('../data/test_set.csv')"
   ]
  },
  {
   "cell_type": "markdown",
   "id": "incorporated-purpose",
   "metadata": {},
   "source": [
    "# assemble"
   ]
  },
  {
   "cell_type": "code",
   "execution_count": 21,
   "id": "encouraging-vintage",
   "metadata": {},
   "outputs": [],
   "source": [
    "V =15\n",
    "padding_idx=0"
   ]
  },
  {
   "cell_type": "code",
   "execution_count": 10,
   "id": "significant-rating",
   "metadata": {},
   "outputs": [],
   "source": [
    "model = DTI_model_MAML(all_config=args).to('cuda')\n",
    "\n",
    "tokenizer = model.prot_tokenizer"
   ]
  },
  {
   "cell_type": "code",
   "execution_count": 12,
   "id": "adult-lending",
   "metadata": {},
   "outputs": [],
   "source": [
    "criterion_smooth = LabelSmoothing(V,padding_idx,smoothing=0.0)\n",
    "\n",
    "meta_optim = optim.Adam(model.parameters(), lr=args['meta_lr'])\n",
    "scheduler = torch.optim.lr_scheduler.CosineAnnealingLR(meta_optim, T_max=10)"
   ]
  },
  {
   "cell_type": "code",
   "execution_count": 9,
   "id": "peaceful-hormone",
   "metadata": {},
   "outputs": [],
   "source": [
    "# criterion=nn.MSELoss(reduction='mean')\n",
    "# loss_fn = torch.nn.CrossEntropyLoss()"
   ]
  },
  {
   "cell_type": "code",
   "execution_count": 11,
   "id": "scheduled-exchange",
   "metadata": {},
   "outputs": [],
   "source": [
    "chem_dict = pd.Series(load_pkl( args['cwd']+'data/ChEMBLE26/chemical/ikey2smiles_ChEMBLE.pkl'))\n",
    "protein_dict = pd.Series(load_pkl(args['cwd']+'data/ChEMBLE26/protein/unipfam2triplet.pkl'))\n"
   ]
  },
  {
   "cell_type": "code",
   "execution_count": 28,
   "id": "related-antigua",
   "metadata": {},
   "outputs": [
    {
     "name": "stdout",
     "output_type": "stream",
     "text": [
      "0\n",
      "1\n",
      "2\n",
      "3\n",
      "4\n",
      "5\n",
      "6\n",
      "7\n",
      "8\n",
      "9\n",
      "10\n",
      "11\n",
      "12\n",
      "13\n",
      "14\n",
      "15\n",
      "16\n",
      "17\n",
      "18\n",
      "19\n"
     ]
    }
   ],
   "source": [
    "train_classic_performance = {'loss': [], 'overall': []}\n",
    "\n",
    "# for step in range(args['global_MAML_step']):\n",
    "for step in range(20):\n",
    "    model.train()\n",
    "    print(step)\n",
    "#     batch = train.sample(args['batch_size'])\n",
    "#     chem_graph, protein_tokenized = get_repr_DTI(batch, tokenizer, chem_dict, protein_dict, 'DISAE')\n",
    "#     ---------------------\n",
    "    batch = train.sample(args['batch_size'])\n",
    "    chem_graph,protein_tokenized = get_repr_DTI(batch,tokenizer,chem_dict,protein_dict,'DISAE')\n",
    "\n",
    "    out,ntokens,target = model.encode(protein_tokenized.to('cuda'),\n",
    "                                     chem_graph.to('cuda'),\n",
    "                                     batch)\n",
    "\n",
    "    out_G = model.generator(out)\n",
    "    loss = criterion_smooth(out_G.contiguous().view(-1,out_G.size(-1)),target.contiguous().view(-1))\n",
    "    loss = loss/ntokens\n",
    "    #     ---------------------\n",
    "    meta_optim.zero_grad()\n",
    "    loss.backward()\n",
    "    meta_optim.step()\n",
    "    scheduler.step()\n",
    "    train_classic_performance['loss'].append(loss.detach().cpu().item())"
   ]
  },
  {
   "cell_type": "markdown",
   "id": "genetic-mexico",
   "metadata": {},
   "source": [
    "# plot"
   ]
  },
  {
   "cell_type": "code",
   "execution_count": 29,
   "id": "occasional-screen",
   "metadata": {},
   "outputs": [],
   "source": [
    "import matplotlib.pyplot as plt"
   ]
  },
  {
   "cell_type": "code",
   "execution_count": 30,
   "id": "veterinary-festival",
   "metadata": {},
   "outputs": [
    {
     "data": {
      "text/plain": [
       "[<matplotlib.lines.Line2D at 0x1bf9f1c6588>]"
      ]
     },
     "execution_count": 30,
     "metadata": {},
     "output_type": "execute_result"
    },
    {
     "data": {
      "image/png": "[encoded data removed]",
      "text/plain": [
       "<Figure size 432x288 with 1 Axes>"
      ]
     },
     "metadata": {
      "needs_background": "light"
     },
     "output_type": "display_data"
    }
   ],
   "source": [
    "plt.plot(range(len(train_classic_performance['loss'])), train_classic_performance['loss'])"
   ]
  },
  {
   "cell_type": "markdown",
   "id": "mature-fiction",
   "metadata": {},
   "source": [
    "# encode"
   ]
  },
  {
   "cell_type": "code",
   "execution_count": 32,
   "id": "suspected-summer",
   "metadata": {},
   "outputs": [],
   "source": [
    "pad=0"
   ]
  },
  {
   "cell_type": "code",
   "execution_count": 30,
   "id": "experimental-polish",
   "metadata": {},
   "outputs": [],
   "source": [
    "src_embedding = model.src_embed(batch_protein_tokenized.to('cuda'),\n",
    "                                batch_chem_graph.to('cuda'))"
   ]
  },
  {
   "cell_type": "code",
   "execution_count": 38,
   "id": "increasing-disaster",
   "metadata": {},
   "outputs": [],
   "source": [
    "device = (src_embedding.device)"
   ]
  },
  {
   "cell_type": "code",
   "execution_count": 37,
   "id": "alpha-polls",
   "metadata": {},
   "outputs": [],
   "source": [
    "src_mask = torch.ones(src_embedding.size()[:2])\n",
    "src_mask = (src_mask != pad).unsqueeze(-2).to(src_embedding.device)\n",
    "m    = model.encoder(src_embedding, src_mask)"
   ]
  },
  {
   "cell_type": "code",
   "execution_count": 42,
   "id": "cordless-railway",
   "metadata": {},
   "outputs": [],
   "source": [
    "trg = torch.tensor(batch['token_id_mapped'].values.tolist())[:, :-1].to(device)\n",
    "target = torch.tensor(batch['token_id_mapped'].values.tolist())[:, 1:].to(device)\n",
    "trg_mask = make_std_mask(trg, pad).to(device)\n",
    "ntokens = (trg != pad).data.sum()"
   ]
  },
  {
   "cell_type": "code",
   "execution_count": null,
   "id": "handy-alexander",
   "metadata": {},
   "outputs": [],
   "source": []
  },
  {
   "cell_type": "markdown",
   "id": "documentary-astrology",
   "metadata": {},
   "source": [
    "# src_embed"
   ]
  },
  {
   "cell_type": "code",
   "execution_count": 19,
   "id": "legitimate-announcement",
   "metadata": {},
   "outputs": [],
   "source": [
    "batch_chem_graphs_repr_masked, batch_protein_repr= model.dti_embed(protein_tokenized.to('cuda'),chem_graph.to('cuda'))"
   ]
  },
  {
   "cell_type": "code",
   "execution_count": 24,
   "id": "organizational-construction",
   "metadata": {},
   "outputs": [],
   "source": [
    "batch_protein_tokenized = protein_tokenized\n",
    "batch_chem_graph = chem_graph"
   ]
  },
  {
   "cell_type": "code",
   "execution_count": 20,
   "id": "careful-cooperative",
   "metadata": {},
   "outputs": [],
   "source": [
    "prot_em_strech =model.strech(batch_protein_repr)"
   ]
  },
  {
   "cell_type": "code",
   "execution_count": 28,
   "id": "premier-compatibility",
   "metadata": {},
   "outputs": [],
   "source": [
    "dti_cat = torch.cat([batch_chem_graphs_repr_masked,prot_em_strech],1)"
   ]
  },
  {
   "cell_type": "code",
   "execution_count": 29,
   "id": "regular-stationery",
   "metadata": {},
   "outputs": [],
   "source": [
    "src_embedding=model.strech2(dti_cat)"
   ]
  },
  {
   "cell_type": "code",
   "execution_count": 194,
   "id": "right-penalty",
   "metadata": {},
   "outputs": [],
   "source": [
    "# inter_vec= model.encode(protein_tokenized.to('cuda'),chem_graph.to('cuda'))\n",
    "# chem_em,prot_em= model.encode(protein_tokenized.to('cuda'),chem_graph.to('cuda'))\n",
    "# chem_vector, prot_vector,chem_score,prot_score=\n"
   ]
  },
  {
   "cell_type": "code",
   "execution_count": 195,
   "id": "economic-botswana",
   "metadata": {},
   "outputs": [
    {
     "data": {
      "text/plain": [
       "(torch.Size([6, 33, 300]), torch.Size([6, 255, 312]))"
      ]
     },
     "execution_count": 195,
     "metadata": {},
     "output_type": "execute_result"
    }
   ],
   "source": [
    "# inter_vec.shape\n",
    "chem_em.shape,prot_em.shape\n",
    "# chem_vector.shape, prot_vector.shape,chem_score.shape,prot_score.shape"
   ]
  },
  {
   "cell_type": "code",
   "execution_count": 200,
   "id": "canadian-spice",
   "metadata": {},
   "outputs": [],
   "source": [
    "stretch = nn.Linear(312,300).cuda()"
   ]
  },
  {
   "cell_type": "code",
   "execution_count": 216,
   "id": "tired-sixth",
   "metadata": {},
   "outputs": [],
   "source": [
    "stretch2 = nn.Linear(300,d_model).cuda()"
   ]
  },
  {
   "cell_type": "code",
   "execution_count": 202,
   "id": "comfortable-restaurant",
   "metadata": {},
   "outputs": [],
   "source": [
    "prot_em_stretch =stretch(prot_em)"
   ]
  },
  {
   "cell_type": "code",
   "execution_count": 203,
   "id": "received-founder",
   "metadata": {},
   "outputs": [
    {
     "data": {
      "text/plain": [
       "torch.Size([6, 255, 300])"
      ]
     },
     "execution_count": 203,
     "metadata": {},
     "output_type": "execute_result"
    }
   ],
   "source": [
    "prot_em_stretch.shape"
   ]
  },
  {
   "cell_type": "code",
   "execution_count": 217,
   "id": "simplified-specification",
   "metadata": {},
   "outputs": [],
   "source": [
    "V=len(token_map.keys())\n",
    "\n",
    "h =8\n",
    "d_model=512\n",
    "d_ff=2048\n",
    "dropout=0\n",
    "src_vocab= 288\n",
    "tgt_vocab=V\n",
    "N =2\n",
    "\n",
    "\n",
    "pad =0\n",
    "prot_em_strech=strech(batch_protein_repr)\n",
    "dti_cat= torch.cat([chem_em,prot_em_stretch],1)"
   ]
  },
  {
   "cell_type": "code",
   "execution_count": 321,
   "id": "streaming-shade",
   "metadata": {},
   "outputs": [
    {
     "data": {
      "text/plain": [
       "15"
      ]
     },
     "execution_count": 321,
     "metadata": {},
     "output_type": "execute_result"
    }
   ],
   "source": [
    "len(token_map.keys())"
   ]
  },
  {
   "cell_type": "code",
   "execution_count": 220,
   "id": "legitimate-dublin",
   "metadata": {},
   "outputs": [],
   "source": [
    "src_embedding = stretch2(dti_cat)"
   ]
  },
  {
   "cell_type": "code",
   "execution_count": 222,
   "id": "boring-daughter",
   "metadata": {},
   "outputs": [
    {
     "data": {
      "text/plain": [
       "torch.Size([6, 288, 512])"
      ]
     },
     "execution_count": 222,
     "metadata": {},
     "output_type": "execute_result"
    }
   ],
   "source": [
    "src_embedding.shape"
   ]
  },
  {
   "cell_type": "markdown",
   "id": "frequent-plasma",
   "metadata": {},
   "source": [
    "# encoder"
   ]
  },
  {
   "cell_type": "code",
   "execution_count": 47,
   "id": "visible-median",
   "metadata": {},
   "outputs": [],
   "source": [
    "# V=len(token_map.keys())\n",
    "V = 15\n",
    "h =8\n",
    "d_model=512\n",
    "d_ff=2048\n",
    "dropout=0\n",
    "src_vocab= 288\n",
    "tgt_vocab=V\n",
    "N =2\n",
    "\n",
    "\n",
    "pad =0"
   ]
  },
  {
   "cell_type": "code",
   "execution_count": 224,
   "id": "moderate-thomson",
   "metadata": {},
   "outputs": [],
   "source": [
    "encoder_layer= EncoderLayer(d_model, c(attn), c(ff),dropout)\n",
    "encoder = Encoder(encoder_layer,N).cuda()\n",
    "# src_embed= nn.Sequential(Embeddings(d_model,src_vocab),c(position))"
   ]
  },
  {
   "cell_type": "code",
   "execution_count": 225,
   "id": "lasting-delta",
   "metadata": {},
   "outputs": [],
   "source": [
    "\n",
    "# src_mask = torch.ones(memory.size()[:2])\n",
    "src_mask = torch.ones(src_embedding.size()[:2])\n",
    "\n",
    "src_mask = (src_mask!=pad).unsqueeze(-2).cuda()"
   ]
  },
  {
   "cell_type": "code",
   "execution_count": 228,
   "id": "scientific-submission",
   "metadata": {},
   "outputs": [
    {
     "data": {
      "text/plain": [
       "(torch.Size([6, 1, 288]), torch.Size([6, 288, 512]))"
      ]
     },
     "execution_count": 228,
     "metadata": {},
     "output_type": "execute_result"
    }
   ],
   "source": [
    "# memory.shape,\n",
    "src_mask.shape,src_embedding.shape"
   ]
  },
  {
   "cell_type": "code",
   "execution_count": 229,
   "id": "protecting-reverse",
   "metadata": {},
   "outputs": [],
   "source": [
    "m_memory=encoder(src_embedding,src_mask)"
   ]
  },
  {
   "cell_type": "code",
   "execution_count": 230,
   "id": "bigger-fishing",
   "metadata": {},
   "outputs": [
    {
     "data": {
      "text/plain": [
       "torch.Size([6, 288, 512])"
      ]
     },
     "execution_count": 230,
     "metadata": {},
     "output_type": "execute_result"
    }
   ],
   "source": [
    "m_memory.shape"
   ]
  },
  {
   "cell_type": "markdown",
   "id": "sharp-notice",
   "metadata": {},
   "source": [
    "# decoder"
   ]
  },
  {
   "cell_type": "code",
   "execution_count": 39,
   "id": "electric-inclusion",
   "metadata": {},
   "outputs": [],
   "source": [
    "import pickle\n",
    "import numpy as np\n",
    "from torch.autograd import Variable"
   ]
  },
  {
   "cell_type": "code",
   "execution_count": 40,
   "id": "three-shooting",
   "metadata": {},
   "outputs": [],
   "source": [
    "def subsequent_mask(size):\n",
    "    \"Mask out subsequent positions.\"\n",
    "    attn_shape = (1, size, size)\n",
    "    subsequent_mask = np.triu(np.ones(attn_shape), k=1).astype('uint8')\n",
    "    return torch.from_numpy(subsequent_mask) == 0\n",
    "\n",
    "def make_std_mask(tgt, pad):\n",
    "    \"Create a mask to hide padding and future words.\"\n",
    "    tgt_mask = (tgt != pad).unsqueeze(-2)\n",
    "    tgt_mask = tgt_mask & Variable(\n",
    "        subsequent_mask(tgt.size(-1)).type_as(tgt_mask.data))\n",
    "    return tgt_mask\n",
    "\n"
   ]
  },
  {
   "cell_type": "code",
   "execution_count": 85,
   "id": "ethical-mystery",
   "metadata": {},
   "outputs": [],
   "source": [
    "with open('../data/tokenizer.pkl','rb') as f:\n",
    "    token_map = pickle.load(f)"
   ]
  },
  {
   "cell_type": "code",
   "execution_count": 86,
   "id": "welsh-contrary",
   "metadata": {},
   "outputs": [
    {
     "data": {
      "text/plain": [
       "{'<pad>': 0,\n",
       " '+': 1,\n",
       " '-': 2,\n",
       " 'e': 3,\n",
       " '.': 4,\n",
       " '0': 5,\n",
       " '1': 6,\n",
       " '2': 7,\n",
       " '3': 8,\n",
       " '4': 9,\n",
       " '5': 10,\n",
       " '6': 11,\n",
       " '7': 12,\n",
       " '8': 13,\n",
       " '9': 14}"
      ]
     },
     "execution_count": 86,
     "metadata": {},
     "output_type": "execute_result"
    }
   ],
   "source": [
    "token_map"
   ]
  },
  {
   "cell_type": "code",
   "execution_count": 246,
   "id": "homeless-scottish",
   "metadata": {},
   "outputs": [],
   "source": [
    "trg = torch.tensor(batch['token_id_mapped'].values.tolist())[:,:-1].cuda()"
   ]
  },
  {
   "cell_type": "code",
   "execution_count": 247,
   "id": "resistant-glass",
   "metadata": {},
   "outputs": [],
   "source": [
    "target = torch.tensor(batch['token_id_mapped'].values.tolist())[:,1:].cuda()"
   ]
  },
  {
   "cell_type": "code",
   "execution_count": 89,
   "id": "occupational-nothing",
   "metadata": {},
   "outputs": [],
   "source": [
    "# trg_mask = (trg!=pad).unsqueeze(-2)"
   ]
  },
  {
   "cell_type": "code",
   "execution_count": 248,
   "id": "competitive-green",
   "metadata": {},
   "outputs": [],
   "source": [
    "trg_mask =make_std_mask(trg,pad)\n"
   ]
  },
  {
   "cell_type": "code",
   "execution_count": 48,
   "id": "substantial-harmony",
   "metadata": {},
   "outputs": [],
   "source": [
    "attn = MultiHeadedAttention(h,d_model)\n",
    "ff = PositionwiseFeedForward(d_model,d_ff,dropout)\n",
    "position=PositionalEncoding(d_model,dropout)\n",
    "c = copy.deepcopy\n",
    "# 0------------------------------\n",
    "decoder_layer = DecoderLayer(d_model,c(attn),c(attn),c(ff),dropout).cuda()\n",
    "decoder= Decoder(decoder_layer,N).cuda()\n",
    "tgt_embed = nn.Sequential(Embeddings(d_model,tgt_vocab),c(position)).cuda()\n",
    "generator = Generator(d_model,tgt_vocab).cuda()"
   ]
  },
  {
   "cell_type": "code",
   "execution_count": null,
   "id": "bottom-necklace",
   "metadata": {},
   "outputs": [],
   "source": []
  },
  {
   "cell_type": "code",
   "execution_count": 117,
   "id": "german-patch",
   "metadata": {},
   "outputs": [],
   "source": [
    "# memory = inter_vec"
   ]
  },
  {
   "cell_type": "code",
   "execution_count": 49,
   "id": "abstract-coaching",
   "metadata": {},
   "outputs": [],
   "source": [
    "tgt_embedding = tgt_embed(trg)"
   ]
  },
  {
   "cell_type": "code",
   "execution_count": 250,
   "id": "treated-raleigh",
   "metadata": {},
   "outputs": [
    {
     "data": {
      "text/plain": [
       "(torch.Size([6, 21, 512]), torch.Size([6, 21]))"
      ]
     },
     "execution_count": 250,
     "metadata": {},
     "output_type": "execute_result"
    }
   ],
   "source": [
    "tgt_embedding.shape,trg.shape"
   ]
  },
  {
   "cell_type": "code",
   "execution_count": 51,
   "id": "parliamentary-cylinder",
   "metadata": {},
   "outputs": [],
   "source": [
    "out = decoder(tgt_embedding,src_embedding,src_mask,trg_mask)"
   ]
  },
  {
   "cell_type": "code",
   "execution_count": 52,
   "id": "forced-remove",
   "metadata": {},
   "outputs": [
    {
     "data": {
      "text/plain": [
       "torch.Size([6, 21, 512])"
      ]
     },
     "execution_count": 52,
     "metadata": {},
     "output_type": "execute_result"
    }
   ],
   "source": [
    "out.shape"
   ]
  },
  {
   "cell_type": "markdown",
   "id": "careful-astrology",
   "metadata": {},
   "source": [
    "# dissect decoder"
   ]
  },
  {
   "cell_type": "code",
   "execution_count": 134,
   "id": "judicial-growth",
   "metadata": {},
   "outputs": [],
   "source": [
    "size = d_model\n",
    "self_attn = c(attn).cuda()\n",
    "src_attn = c(attn).cuda()\n",
    "feed_forward=ff.cuda()\n",
    "dropout=dropout"
   ]
  },
  {
   "cell_type": "code",
   "execution_count": 251,
   "id": "fuzzy-central",
   "metadata": {},
   "outputs": [],
   "source": [
    "tgt_mask = trg_mask"
   ]
  },
  {
   "cell_type": "code",
   "execution_count": 252,
   "id": "stuffed-trick",
   "metadata": {},
   "outputs": [],
   "source": [
    "ntokens  = (trg!=pad).data.sum()"
   ]
  },
  {
   "cell_type": "code",
   "execution_count": 253,
   "id": "utility-thousand",
   "metadata": {},
   "outputs": [],
   "source": [
    "sublayer= clones(SublayerConnection(size,dropout),3).cuda()"
   ]
  },
  {
   "cell_type": "code",
   "execution_count": 254,
   "id": "removed-forest",
   "metadata": {},
   "outputs": [],
   "source": [
    "# m=memory.unsqueeze(1)\n",
    "# m = m.repeat(1,22,1)\n",
    "m = m_memory"
   ]
  },
  {
   "cell_type": "code",
   "execution_count": 255,
   "id": "median-dodge",
   "metadata": {},
   "outputs": [],
   "source": [
    "x = tgt_embedding"
   ]
  },
  {
   "cell_type": "code",
   "execution_count": 256,
   "id": "convertible-numbers",
   "metadata": {},
   "outputs": [],
   "source": [
    "x1 = sublayer[0](x, lambda x: self_attn(x,x,x,tgt_mask))"
   ]
  },
  {
   "cell_type": "code",
   "execution_count": 257,
   "id": "duplicate-cowboy",
   "metadata": {},
   "outputs": [
    {
     "data": {
      "text/plain": [
       "(torch.Size([6, 21, 512]), torch.Size([6, 288, 512]), torch.Size([6, 1, 288]))"
      ]
     },
     "execution_count": 257,
     "metadata": {},
     "output_type": "execute_result"
    }
   ],
   "source": [
    "x1.shape,m.shape,src_mask.shape"
   ]
  },
  {
   "cell_type": "code",
   "execution_count": 258,
   "id": "essential-gathering",
   "metadata": {},
   "outputs": [],
   "source": [
    "x2 = sublayer[1](x1, lambda x1: src_attn(x,m,m,src_mask))"
   ]
  },
  {
   "cell_type": "code",
   "execution_count": 259,
   "id": "intermediate-brain",
   "metadata": {},
   "outputs": [
    {
     "data": {
      "text/plain": [
       "torch.Size([6, 21, 512])"
      ]
     },
     "execution_count": 259,
     "metadata": {},
     "output_type": "execute_result"
    }
   ],
   "source": [
    "x2.shape"
   ]
  },
  {
   "cell_type": "markdown",
   "id": "adjusted-cleaner",
   "metadata": {},
   "source": [
    "# dissect loss"
   ]
  },
  {
   "cell_type": "code",
   "execution_count": 235,
   "id": "valid-amount",
   "metadata": {},
   "outputs": [],
   "source": [
    "criterion = nn.KLDivLoss(size_average=False)"
   ]
  },
  {
   "cell_type": "code",
   "execution_count": 276,
   "id": "assisted-biotechnology",
   "metadata": {},
   "outputs": [],
   "source": [
    "size = 22"
   ]
  },
  {
   "cell_type": "code",
   "execution_count": 285,
   "id": "inclusive-danish",
   "metadata": {},
   "outputs": [],
   "source": [
    "padding_idx=pad"
   ]
  },
  {
   "cell_type": "code",
   "execution_count": 245,
   "id": "compact-motorcycle",
   "metadata": {},
   "outputs": [
    {
     "data": {
      "text/plain": [
       "0"
      ]
     },
     "execution_count": 245,
     "metadata": {},
     "output_type": "execute_result"
    }
   ],
   "source": [
    "pad"
   ]
  },
  {
   "cell_type": "code",
   "execution_count": 277,
   "id": "impressive-internet",
   "metadata": {},
   "outputs": [],
   "source": [
    "true_dist= x2.data.clone()"
   ]
  },
  {
   "cell_type": "code",
   "execution_count": 278,
   "id": "romance-penny",
   "metadata": {},
   "outputs": [
    {
     "data": {
      "text/plain": [
       "torch.Size([6, 21, 512])"
      ]
     },
     "execution_count": 278,
     "metadata": {},
     "output_type": "execute_result"
    }
   ],
   "source": [
    "true_dist.shape"
   ]
  },
  {
   "cell_type": "code",
   "execution_count": 265,
   "id": "friendly-petroleum",
   "metadata": {},
   "outputs": [],
   "source": [
    "smoothing =0.0"
   ]
  },
  {
   "cell_type": "code",
   "execution_count": 266,
   "id": "ranging-marble",
   "metadata": {},
   "outputs": [],
   "source": [
    "confidence=1.0-smoothing"
   ]
  },
  {
   "cell_type": "code",
   "execution_count": 269,
   "id": "expired-steering",
   "metadata": {},
   "outputs": [
    {
     "data": {
      "text/plain": [
       "torch.Size([6, 21, 512])"
      ]
     },
     "execution_count": 269,
     "metadata": {},
     "output_type": "execute_result"
    }
   ],
   "source": [
    "true_dist.shape"
   ]
  },
  {
   "cell_type": "code",
   "execution_count": 279,
   "id": "moving-character",
   "metadata": {
    "collapsed": true,
    "jupyter": {
     "outputs_hidden": true
    }
   },
   "outputs": [
    {
     "data": {
      "text/plain": [
       "tensor([[[0., 0., 0.,  ..., 0., 0., 0.],\n",
       "         [0., 0., 0.,  ..., 0., 0., 0.],\n",
       "         [0., 0., 0.,  ..., 0., 0., 0.],\n",
       "         ...,\n",
       "         [0., 0., 0.,  ..., 0., 0., 0.],\n",
       "         [0., 0., 0.,  ..., 0., 0., 0.],\n",
       "         [0., 0., 0.,  ..., 0., 0., 0.]],\n",
       "\n",
       "        [[0., 0., 0.,  ..., 0., 0., 0.],\n",
       "         [0., 0., 0.,  ..., 0., 0., 0.],\n",
       "         [0., 0., 0.,  ..., 0., 0., 0.],\n",
       "         ...,\n",
       "         [0., 0., 0.,  ..., 0., 0., 0.],\n",
       "         [0., 0., 0.,  ..., 0., 0., 0.],\n",
       "         [0., 0., 0.,  ..., 0., 0., 0.]],\n",
       "\n",
       "        [[0., 0., 0.,  ..., 0., 0., 0.],\n",
       "         [0., 0., 0.,  ..., 0., 0., 0.],\n",
       "         [0., 0., 0.,  ..., 0., 0., 0.],\n",
       "         ...,\n",
       "         [0., 0., 0.,  ..., 0., 0., 0.],\n",
       "         [0., 0., 0.,  ..., 0., 0., 0.],\n",
       "         [0., 0., 0.,  ..., 0., 0., 0.]],\n",
       "\n",
       "        [[0., 0., 0.,  ..., 0., 0., 0.],\n",
       "         [0., 0., 0.,  ..., 0., 0., 0.],\n",
       "         [0., 0., 0.,  ..., 0., 0., 0.],\n",
       "         ...,\n",
       "         [0., 0., 0.,  ..., 0., 0., 0.],\n",
       "         [0., 0., 0.,  ..., 0., 0., 0.],\n",
       "         [0., 0., 0.,  ..., 0., 0., 0.]],\n",
       "\n",
       "        [[0., 0., 0.,  ..., 0., 0., 0.],\n",
       "         [0., 0., 0.,  ..., 0., 0., 0.],\n",
       "         [0., 0., 0.,  ..., 0., 0., 0.],\n",
       "         ...,\n",
       "         [0., 0., 0.,  ..., 0., 0., 0.],\n",
       "         [0., 0., 0.,  ..., 0., 0., 0.],\n",
       "         [0., 0., 0.,  ..., 0., 0., 0.]],\n",
       "\n",
       "        [[0., 0., 0.,  ..., 0., 0., 0.],\n",
       "         [0., 0., 0.,  ..., 0., 0., 0.],\n",
       "         [0., 0., 0.,  ..., 0., 0., 0.],\n",
       "         ...,\n",
       "         [0., 0., 0.,  ..., 0., 0., 0.],\n",
       "         [0., 0., 0.,  ..., 0., 0., 0.],\n",
       "         [0., 0., 0.,  ..., 0., 0., 0.]]], device='cuda:0')"
      ]
     },
     "execution_count": 279,
     "metadata": {},
     "output_type": "execute_result"
    }
   ],
   "source": [
    "true_dist.fill_(smoothing/(size-2))"
   ]
  },
  {
   "cell_type": "code",
   "execution_count": 280,
   "id": "sapphire-manchester",
   "metadata": {},
   "outputs": [
    {
     "data": {
      "text/plain": [
       "torch.Size([6, 21, 512])"
      ]
     },
     "execution_count": 280,
     "metadata": {},
     "output_type": "execute_result"
    }
   ],
   "source": [
    "true_dist.shape"
   ]
  },
  {
   "cell_type": "code",
   "execution_count": 281,
   "id": "written-popularity",
   "metadata": {
    "collapsed": true,
    "jupyter": {
     "outputs_hidden": true
    }
   },
   "outputs": [
    {
     "data": {
      "text/plain": [
       "tensor([[[0., 0., 1.,  ..., 0., 0., 0.],\n",
       "         [0., 0., 0.,  ..., 0., 0., 0.],\n",
       "         [0., 0., 0.,  ..., 0., 0., 0.],\n",
       "         ...,\n",
       "         [0., 0., 0.,  ..., 0., 0., 0.],\n",
       "         [0., 0., 0.,  ..., 0., 0., 0.],\n",
       "         [0., 0., 0.,  ..., 0., 0., 0.]],\n",
       "\n",
       "        [[0., 0., 0.,  ..., 0., 0., 0.],\n",
       "         [0., 0., 0.,  ..., 0., 0., 0.],\n",
       "         [0., 0., 0.,  ..., 0., 0., 0.],\n",
       "         ...,\n",
       "         [0., 0., 0.,  ..., 0., 0., 0.],\n",
       "         [0., 0., 0.,  ..., 0., 0., 0.],\n",
       "         [0., 0., 0.,  ..., 0., 0., 0.]],\n",
       "\n",
       "        [[0., 0., 0.,  ..., 0., 0., 0.],\n",
       "         [0., 0., 0.,  ..., 0., 0., 0.],\n",
       "         [0., 0., 0.,  ..., 0., 0., 0.],\n",
       "         ...,\n",
       "         [0., 0., 0.,  ..., 0., 0., 0.],\n",
       "         [0., 0., 0.,  ..., 0., 0., 0.],\n",
       "         [0., 0., 0.,  ..., 0., 0., 0.]],\n",
       "\n",
       "        [[0., 0., 0.,  ..., 0., 0., 0.],\n",
       "         [0., 0., 0.,  ..., 0., 0., 0.],\n",
       "         [0., 0., 0.,  ..., 0., 0., 0.],\n",
       "         ...,\n",
       "         [0., 0., 0.,  ..., 0., 0., 0.],\n",
       "         [0., 0., 0.,  ..., 0., 0., 0.],\n",
       "         [0., 0., 0.,  ..., 0., 0., 0.]],\n",
       "\n",
       "        [[0., 0., 0.,  ..., 0., 0., 0.],\n",
       "         [0., 0., 0.,  ..., 0., 0., 0.],\n",
       "         [0., 0., 0.,  ..., 0., 0., 0.],\n",
       "         ...,\n",
       "         [0., 0., 0.,  ..., 0., 0., 0.],\n",
       "         [0., 0., 0.,  ..., 0., 0., 0.],\n",
       "         [0., 0., 0.,  ..., 0., 0., 0.]],\n",
       "\n",
       "        [[0., 0., 0.,  ..., 0., 0., 0.],\n",
       "         [0., 0., 0.,  ..., 0., 0., 0.],\n",
       "         [0., 0., 0.,  ..., 0., 0., 0.],\n",
       "         ...,\n",
       "         [0., 0., 0.,  ..., 0., 0., 0.],\n",
       "         [0., 0., 0.,  ..., 0., 0., 0.],\n",
       "         [0., 0., 0.,  ..., 0., 0., 0.]]], device='cuda:0')"
      ]
     },
     "execution_count": 281,
     "metadata": {},
     "output_type": "execute_result"
    }
   ],
   "source": [
    "true_dist.scatter_(1, target.data.unsqueeze(1), confidence)"
   ]
  },
  {
   "cell_type": "code",
   "execution_count": 282,
   "id": "corporate-serial",
   "metadata": {},
   "outputs": [
    {
     "data": {
      "text/plain": [
       "torch.Size([6, 21, 512])"
      ]
     },
     "execution_count": 282,
     "metadata": {},
     "output_type": "execute_result"
    }
   ],
   "source": [
    "true_dist.shape"
   ]
  },
  {
   "cell_type": "code",
   "execution_count": 286,
   "id": "tracked-cooperative",
   "metadata": {},
   "outputs": [],
   "source": [
    "true_dist[:, padding_idx] = 0"
   ]
  },
  {
   "cell_type": "code",
   "execution_count": 292,
   "id": "critical-stewart",
   "metadata": {},
   "outputs": [],
   "source": [
    "mask = torch.nonzero(target.data==pad).cuda()"
   ]
  },
  {
   "cell_type": "code",
   "execution_count": 293,
   "id": "future-hindu",
   "metadata": {},
   "outputs": [
    {
     "data": {
      "text/plain": [
       "torch.Size([67, 2])"
      ]
     },
     "execution_count": 293,
     "metadata": {},
     "output_type": "execute_result"
    }
   ],
   "source": [
    "mask.shape"
   ]
  },
  {
   "cell_type": "code",
   "execution_count": 294,
   "id": "annoying-bahamas",
   "metadata": {},
   "outputs": [
    {
     "data": {
      "text/plain": [
       "torch.Size([67, 2])"
      ]
     },
     "execution_count": 294,
     "metadata": {},
     "output_type": "execute_result"
    }
   ],
   "source": [
    "mask.squeeze().shape"
   ]
  },
  {
   "cell_type": "markdown",
   "id": "heard-blend",
   "metadata": {},
   "source": [
    "# use loss"
   ]
  },
  {
   "cell_type": "code",
   "execution_count": 318,
   "id": "agreed-three",
   "metadata": {},
   "outputs": [],
   "source": [
    "criterion_smooth = LabelSmoothing(V,padding_idx,smoothing=0.0)"
   ]
  },
  {
   "cell_type": "code",
   "execution_count": 314,
   "id": "changing-parker",
   "metadata": {},
   "outputs": [
    {
     "data": {
      "text/plain": [
       "22"
      ]
     },
     "execution_count": 314,
     "metadata": {},
     "output_type": "execute_result"
    }
   ],
   "source": [
    "size"
   ]
  },
  {
   "cell_type": "code",
   "execution_count": 305,
   "id": "based-potato",
   "metadata": {},
   "outputs": [],
   "source": [
    "generator = Generator(d_model,tgt_vocab).cuda()"
   ]
  },
  {
   "cell_type": "code",
   "execution_count": 306,
   "id": "dirty-representative",
   "metadata": {},
   "outputs": [],
   "source": [
    "out_G = generator(x2)"
   ]
  },
  {
   "cell_type": "code",
   "execution_count": 308,
   "id": "sacred-villa",
   "metadata": {},
   "outputs": [
    {
     "data": {
      "text/plain": [
       "(torch.Size([6, 21, 15]), torch.Size([6, 21]))"
      ]
     },
     "execution_count": 308,
     "metadata": {},
     "output_type": "execute_result"
    }
   ],
   "source": [
    "out_G.shape,target.shape"
   ]
  },
  {
   "cell_type": "code",
   "execution_count": 311,
   "id": "organic-moore",
   "metadata": {},
   "outputs": [],
   "source": [
    "norm = ntokens"
   ]
  },
  {
   "cell_type": "code",
   "execution_count": 317,
   "id": "cardiac-technical",
   "metadata": {},
   "outputs": [
    {
     "data": {
      "text/plain": [
       "torch.Size([126, 15])"
      ]
     },
     "execution_count": 317,
     "metadata": {},
     "output_type": "execute_result"
    }
   ],
   "source": [
    "out_G.contiguous().view(-1,out_G.size(-1)).shape"
   ]
  },
  {
   "cell_type": "code",
   "execution_count": 319,
   "id": "supreme-public",
   "metadata": {},
   "outputs": [
    {
     "data": {
      "text/plain": [
       "tensor(1015.4486, device='cuda:0', grad_fn=<KlDivBackward>)"
      ]
     },
     "execution_count": 319,
     "metadata": {},
     "output_type": "execute_result"
    }
   ],
   "source": [
    "criterion_smooth(out_G.contiguous().view(-1,out_G.size(-1)),target.contiguous().view(-1))"
   ]
  },
  {
   "cell_type": "code",
   "execution_count": null,
   "id": "gentle-attitude",
   "metadata": {},
   "outputs": [],
   "source": []
  },
  {
   "cell_type": "markdown",
   "id": "addressed-avenue",
   "metadata": {},
   "source": [
    "# greedy decode"
   ]
  },
  {
   "cell_type": "code",
   "execution_count": 242,
   "id": "satellite-establishment",
   "metadata": {},
   "outputs": [],
   "source": [
    "ys = torch.ones(1,1).fill_(99).type_as(trg.data)"
   ]
  },
  {
   "cell_type": "code",
   "execution_count": 243,
   "id": "ready-living",
   "metadata": {},
   "outputs": [
    {
     "data": {
      "text/plain": [
       "tensor([[99]], device='cuda:0')"
      ]
     },
     "execution_count": 243,
     "metadata": {},
     "output_type": "execute_result"
    }
   ],
   "source": [
    "ys"
   ]
  },
  {
   "cell_type": "code",
   "execution_count": 240,
   "id": "raising-prescription",
   "metadata": {},
   "outputs": [
    {
     "data": {
      "text/plain": [
       "torch.Size([1, 1])"
      ]
     },
     "execution_count": 240,
     "metadata": {},
     "output_type": "execute_result"
    }
   ],
   "source": [
    "ys.shape"
   ]
  },
  {
   "cell_type": "code",
   "execution_count": 244,
   "id": "advisory-method",
   "metadata": {},
   "outputs": [
    {
     "data": {
      "text/plain": [
       "tensor([[[True]]])"
      ]
     },
     "execution_count": 244,
     "metadata": {},
     "output_type": "execute_result"
    }
   ],
   "source": [
    "subsequent_mask(ys.size(1))"
   ]
  },
  {
   "cell_type": "code",
   "execution_count": null,
   "id": "residential-intermediate",
   "metadata": {},
   "outputs": [],
   "source": []
  }
 ],
 "metadata": {
  "kernelspec": {
   "display_name": "Python 3",
   "language": "python",
   "name": "python3"
  },
  "language_info": {
   "codemirror_mode": {
    "name": "ipython",
    "version": 3
   },
   "file_extension": ".py",
   "mimetype": "text/x-python",
   "name": "python",
   "nbconvert_exporter": "python",
   "pygments_lexer": "ipython3",
   "version": "3.6.12"
  }
 },
 "nbformat": 4,
 "nbformat_minor": 5
}
