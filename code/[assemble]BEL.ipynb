{
 "cells": [
  {
   "cell_type": "code",
   "execution_count": 1,
   "id": "affecting-adelaide",
   "metadata": {},
   "outputs": [],
   "source": [
    "%load_ext autoreload\n",
    "%autoreload 2"
   ]
  },
  {
   "cell_type": "code",
   "execution_count": 15,
   "id": "adverse-union",
   "metadata": {},
   "outputs": [],
   "source": [
    "import argparse\n",
    "import pandas as pd\n",
    "import numpy as np\n",
    "import warnings\n",
    "warnings.filterwarnings('ignore')\n",
    "import torch\n",
    "import torch.nn as nn\n",
    "from torch import optim"
   ]
  },
  {
   "cell_type": "code",
   "execution_count": 3,
   "id": "mineral-flush",
   "metadata": {},
   "outputs": [],
   "source": [
    "from utils_DRD import get_repr_DTI"
   ]
  },
  {
   "cell_type": "code",
   "execution_count": 4,
   "id": "informed-calendar",
   "metadata": {},
   "outputs": [],
   "source": [
    "from data_tool_box_DRD import str2bool, load_pkl\n",
    "# from DTI_meta_MAML_DRD import meta_DTI_MAML\n",
    "from models_MAML import DTI_model_MAML"
   ]
  },
  {
   "cell_type": "code",
   "execution_count": 5,
   "id": "chubby-artist",
   "metadata": {},
   "outputs": [],
   "source": [
    "from transforms import FileTransform, TempReverseTransform,correlationReverseTransform"
   ]
  },
  {
   "cell_type": "code",
   "execution_count": 6,
   "id": "extraordinary-malpractice",
   "metadata": {},
   "outputs": [],
   "source": [
    "parser=argparse.ArgumentParser()\n",
    "parser.add_argument('--frozen',default=\"none\",type=str)\n",
    "parser.add_argument('--cwd',default=\"../\",type=str)\n",
    "parser.add_argument('--batch_size',default=6,type=int)\n",
    "parser.add_argument('--meta_lr',default=1e-3,type=float)\n",
    "parser.add_argument('--global_MAML_step', default=20, type=int,\n",
    "                    help='Number of global training steps, i.e. numberf of mini-batches ')\n",
    "parser.add_argument('--val_range',default=26,type=int)\n",
    "opt= parser.parse_args('')"
   ]
  },
  {
   "cell_type": "code",
   "execution_count": 7,
   "id": "hidden-record",
   "metadata": {},
   "outputs": [],
   "source": [
    "args = {}\n",
    "args.update(vars(opt))"
   ]
  },
  {
   "cell_type": "code",
   "execution_count": 8,
   "id": "asian-substitute",
   "metadata": {},
   "outputs": [],
   "source": [
    "train = pd.read_csv('../data/train_set.csv')\n",
    "\n",
    "test=pd.read_csv('../data/test_set.csv')"
   ]
  },
  {
   "cell_type": "code",
   "execution_count": 9,
   "id": "skilled-parish",
   "metadata": {},
   "outputs": [
    {
     "name": "stdout",
     "output_type": "stream",
     "text": [
      "loaded DISAE :)\n"
     ]
    }
   ],
   "source": [
    "model = DTI_model_MAML(all_config=args).to('cuda')"
   ]
  },
  {
   "cell_type": "code",
   "execution_count": 22,
   "id": "finite-insight",
   "metadata": {},
   "outputs": [],
   "source": [
    "# criterion=nn.MSELoss(reduction='mean')\n",
    "loss_fn = torch.nn.CrossEntropyLoss()"
   ]
  },
  {
   "cell_type": "code",
   "execution_count": 11,
   "id": "atmospheric-maple",
   "metadata": {},
   "outputs": [],
   "source": [
    "tokenizer = model.prot_tokenizer"
   ]
  },
  {
   "cell_type": "code",
   "execution_count": 12,
   "id": "talented-tender",
   "metadata": {},
   "outputs": [],
   "source": [
    "chem_dict = pd.Series(load_pkl( args['cwd']+'data/ChEMBLE26/chemical/ikey2smiles_ChEMBLE.pkl'))\n",
    "protein_dict = pd.Series(load_pkl(args['cwd']+'data/ChEMBLE26/protein/unipfam2triplet.pkl'))\n"
   ]
  },
  {
   "cell_type": "code",
   "execution_count": 20,
   "id": "criminal-radius",
   "metadata": {},
   "outputs": [],
   "source": [
    "transform = FileTransform('../data/encodings/belu_26_tensor.pkl')\n",
    "\n",
    "# result_transform=TempReverseTransform(args['val_range'])\n",
    "result_transform=correlationReverseTransform(transform)"
   ]
  },
  {
   "cell_type": "code",
   "execution_count": 17,
   "id": "endless-moscow",
   "metadata": {},
   "outputs": [],
   "source": [
    "meta_optim = optim.Adam(model.parameters(), lr=args['meta_lr'])\n",
    "scheduler = torch.optim.lr_scheduler.CosineAnnealingLR(meta_optim, T_max=10)"
   ]
  },
  {
   "cell_type": "code",
   "execution_count": 18,
   "id": "coordinate-fitting",
   "metadata": {},
   "outputs": [],
   "source": [
    "train_classic_performance = {'loss': [], 'overall': []}"
   ]
  },
  {
   "cell_type": "code",
   "execution_count": 23,
   "id": "seventh-mitchell",
   "metadata": {},
   "outputs": [
    {
     "name": "stdout",
     "output_type": "stream",
     "text": [
      "0\n",
      "1\n",
      "2\n",
      "3\n",
      "4\n",
      "5\n",
      "6\n",
      "7\n",
      "8\n",
      "9\n",
      "10\n",
      "11\n",
      "12\n",
      "13\n",
      "14\n",
      "15\n",
      "16\n",
      "17\n",
      "18\n",
      "19\n"
     ]
    }
   ],
   "source": [
    "for step in range(args['global_MAML_step']):\n",
    "    model.train()\n",
    "    print(step)\n",
    "    batch = train.sample(args['batch_size'])\n",
    "    chem_graph, protein_tokenized = get_repr_DTI(batch, tokenizer, chem_dict, protein_dict, 'DISAE')\n",
    "    logit = model(protein_tokenized.to('cuda'),chem_graph.to('cuda'))\n",
    "    label = transform(batch['BEL-level'].values)\n",
    "    level = torch.tensor(batch['BEL-level'].values)\n",
    "    outp = result_transform.convert_continuous(logit.to('cuda'))\n",
    "    loss = loss_fn(logit.cpu(),level)\n",
    "    meta_optim.zero_grad()\n",
    "    loss.backward()\n",
    "    meta_optim.step()\n",
    "    scheduler.step()\n",
    "    train_classic_performance['loss'].append(loss.detach().cpu().item())"
   ]
  },
  {
   "cell_type": "markdown",
   "id": "critical-buddy",
   "metadata": {},
   "source": [
    "# plot"
   ]
  },
  {
   "cell_type": "code",
   "execution_count": 24,
   "id": "divine-count",
   "metadata": {},
   "outputs": [],
   "source": [
    "import matplotlib.pyplot as plt"
   ]
  },
  {
   "cell_type": "code",
   "execution_count": 25,
   "id": "embedded-audit",
   "metadata": {},
   "outputs": [
    {
     "data": {
      "text/plain": [
       "[<matplotlib.lines.Line2D at 0x2e123df3c50>]"
      ]
     },
     "execution_count": 25,
     "metadata": {},
     "output_type": "execute_result"
    },
    {
     "data": {
      "image/png": "[encoded data removed]",
      "text/plain": [
       "<Figure size 432x288 with 1 Axes>"
      ]
     },
     "metadata": {
      "needs_background": "light"
     },
     "output_type": "display_data"
    }
   ],
   "source": [
    "plt.plot(range(len(train_classic_performance['loss'])), train_classic_performance['loss'])"
   ]
  },
  {
   "cell_type": "markdown",
   "id": "charitable-entrance",
   "metadata": {},
   "source": [
    "# dissect"
   ]
  },
  {
   "cell_type": "code",
   "execution_count": 19,
   "id": "growing-swiss",
   "metadata": {},
   "outputs": [],
   "source": [
    "batch = train.sample(args['batch_size'])"
   ]
  },
  {
   "cell_type": "code",
   "execution_count": 20,
   "id": "hairy-dallas",
   "metadata": {},
   "outputs": [
    {
     "data": {
      "text/html": [
       "<div>\n",
       "<style scoped>\n",
       "    .dataframe tbody tr th:only-of-type {\n",
       "        vertical-align: middle;\n",
       "    }\n",
       "\n",
       "    .dataframe tbody tr th {\n",
       "        vertical-align: top;\n",
       "    }\n",
       "\n",
       "    .dataframe thead th {\n",
       "        text-align: right;\n",
       "    }\n",
       "</style>\n",
       "<table border=\"1\" class=\"dataframe\">\n",
       "  <thead>\n",
       "    <tr style=\"text-align: right;\">\n",
       "      <th></th>\n",
       "      <th>InChIKey</th>\n",
       "      <th>SMILES</th>\n",
       "      <th>uniprot+pfam</th>\n",
       "      <th>ic_value</th>\n",
       "      <th>ic_str</th>\n",
       "      <th>sentence_len</th>\n",
       "      <th>log(ic)</th>\n",
       "      <th>BEL-level</th>\n",
       "    </tr>\n",
       "  </thead>\n",
       "  <tbody>\n",
       "    <tr>\n",
       "      <th>2125</th>\n",
       "      <td>KNPRYLFUIRHVFZ-UHFFFAOYSA-N</td>\n",
       "      <td>COc1cc(F)c2nc(C)c3c(C)nc(-c4ccncc4C)n3c2c1</td>\n",
       "      <td>Q9Y233|PF00233</td>\n",
       "      <td>3.9</td>\n",
       "      <td>3.9</td>\n",
       "      <td>17</td>\n",
       "      <td>1.360977</td>\n",
       "      <td>3</td>\n",
       "    </tr>\n",
       "    <tr>\n",
       "      <th>20417</th>\n",
       "      <td>XLVQVCOZHAPLOB-NQERJWCQSA-N</td>\n",
       "      <td>Cc1cc(O)cc(C)c1C[C@H](N)C(=O)N1Cc2ccccc2C[C@H]...</td>\n",
       "      <td>P97266|PF00001</td>\n",
       "      <td>4740.0</td>\n",
       "      <td>4740.0</td>\n",
       "      <td>6</td>\n",
       "      <td>8.463792</td>\n",
       "      <td>6</td>\n",
       "    </tr>\n",
       "    <tr>\n",
       "      <th>16058</th>\n",
       "      <td>AJUFRGDVXUPOOW-UHFFFAOYSA-N</td>\n",
       "      <td>CC(C)N1CCC(Oc2ccc3c(c2)cc2n3CCNC2=O)CC1</td>\n",
       "      <td>P08684|PF00067</td>\n",
       "      <td>50000.0</td>\n",
       "      <td>50000.0</td>\n",
       "      <td>17</td>\n",
       "      <td>10.819778</td>\n",
       "      <td>6</td>\n",
       "    </tr>\n",
       "    <tr>\n",
       "      <th>9579</th>\n",
       "      <td>YLFJVEHAPQRFDF-UHFFFAOYSA-N</td>\n",
       "      <td>CCc1nc2ccc(N(Cc3ccccc3Cl)C(=O)c3ccccc3)cc2c(=O...</td>\n",
       "      <td>P34976|PF00001</td>\n",
       "      <td>410.0</td>\n",
       "      <td>410.0</td>\n",
       "      <td>18</td>\n",
       "      <td>6.016157</td>\n",
       "      <td>5</td>\n",
       "    </tr>\n",
       "    <tr>\n",
       "      <th>5868</th>\n",
       "      <td>HLNUKOUNRKYWML-UHFFFAOYSA-N</td>\n",
       "      <td>Cc1cnc2[nH]cc(Cc3ccc(NCc4cnccc4C(F)(F)F)nc3F)c2c1</td>\n",
       "      <td>P33261|PF00067</td>\n",
       "      <td>5000.0</td>\n",
       "      <td>5000.0</td>\n",
       "      <td>6</td>\n",
       "      <td>8.517193</td>\n",
       "      <td>6</td>\n",
       "    </tr>\n",
       "    <tr>\n",
       "      <th>11587</th>\n",
       "      <td>GIZXRMWLDSGMSU-UHFFFAOYSA-N</td>\n",
       "      <td>N#Cc1nc(C(=O)NCC2(C(=O)O)CCS(=O)(=O)CC2)c(O)c2...</td>\n",
       "      <td>Q9GZT9|PF13640</td>\n",
       "      <td>37280.0</td>\n",
       "      <td>37280.0</td>\n",
       "      <td>17</td>\n",
       "      <td>10.526212</td>\n",
       "      <td>6</td>\n",
       "    </tr>\n",
       "  </tbody>\n",
       "</table>\n",
       "</div>"
      ],
      "text/plain": [
       "                          InChIKey  \\\n",
       "2125   KNPRYLFUIRHVFZ-UHFFFAOYSA-N   \n",
       "20417  XLVQVCOZHAPLOB-NQERJWCQSA-N   \n",
       "16058  AJUFRGDVXUPOOW-UHFFFAOYSA-N   \n",
       "9579   YLFJVEHAPQRFDF-UHFFFAOYSA-N   \n",
       "5868   HLNUKOUNRKYWML-UHFFFAOYSA-N   \n",
       "11587  GIZXRMWLDSGMSU-UHFFFAOYSA-N   \n",
       "\n",
       "                                                  SMILES    uniprot+pfam  \\\n",
       "2125          COc1cc(F)c2nc(C)c3c(C)nc(-c4ccncc4C)n3c2c1  Q9Y233|PF00233   \n",
       "20417  Cc1cc(O)cc(C)c1C[C@H](N)C(=O)N1Cc2ccccc2C[C@H]...  P97266|PF00001   \n",
       "16058            CC(C)N1CCC(Oc2ccc3c(c2)cc2n3CCNC2=O)CC1  P08684|PF00067   \n",
       "9579   CCc1nc2ccc(N(Cc3ccccc3Cl)C(=O)c3ccccc3)cc2c(=O...  P34976|PF00001   \n",
       "5868   Cc1cnc2[nH]cc(Cc3ccc(NCc4cnccc4C(F)(F)F)nc3F)c2c1  P33261|PF00067   \n",
       "11587  N#Cc1nc(C(=O)NCC2(C(=O)O)CCS(=O)(=O)CC2)c(O)c2...  Q9GZT9|PF13640   \n",
       "\n",
       "       ic_value   ic_str  sentence_len    log(ic)  BEL-level  \n",
       "2125        3.9      3.9            17   1.360977          3  \n",
       "20417    4740.0   4740.0             6   8.463792          6  \n",
       "16058   50000.0  50000.0            17  10.819778          6  \n",
       "9579      410.0    410.0            18   6.016157          5  \n",
       "5868     5000.0   5000.0             6   8.517193          6  \n",
       "11587   37280.0  37280.0            17  10.526212          6  "
      ]
     },
     "execution_count": 20,
     "metadata": {},
     "output_type": "execute_result"
    }
   ],
   "source": [
    "batch"
   ]
  },
  {
   "cell_type": "code",
   "execution_count": 26,
   "id": "cordless-helmet",
   "metadata": {},
   "outputs": [],
   "source": [
    "chem_graph,protein_tokenized = get_repr_DTI(batch,tokenizer,chem_dict,protein_dict,'DISAE')"
   ]
  },
  {
   "cell_type": "code",
   "execution_count": 72,
   "id": "violent-soccer",
   "metadata": {},
   "outputs": [
    {
     "data": {
      "text/plain": [
       "Batch(batch=[194], edge_attr=[428, 2], edge_index=[2, 428], x=[194, 6])"
      ]
     },
     "execution_count": 72,
     "metadata": {},
     "output_type": "execute_result"
    }
   ],
   "source": [
    "chem_graph.to('cuda')"
   ]
  },
  {
   "cell_type": "code",
   "execution_count": 73,
   "id": "sapphire-nirvana",
   "metadata": {},
   "outputs": [],
   "source": [
    "logit = model(protein_tokenized.to('cuda'),chem_graph.to('cuda'))"
   ]
  },
  {
   "cell_type": "code",
   "execution_count": 74,
   "id": "cardiac-gambling",
   "metadata": {},
   "outputs": [
    {
     "data": {
      "text/plain": [
       "torch.Size([6, 26])"
      ]
     },
     "execution_count": 74,
     "metadata": {},
     "output_type": "execute_result"
    }
   ],
   "source": [
    "logit.shape"
   ]
  },
  {
   "cell_type": "code",
   "execution_count": 36,
   "id": "published-wilson",
   "metadata": {},
   "outputs": [],
   "source": [
    "label = transform(batch['BEL-level'].values)"
   ]
  },
  {
   "cell_type": "code",
   "execution_count": 39,
   "id": "local-relevance",
   "metadata": {},
   "outputs": [],
   "source": [
    "level = torch.tensor(batch['BEL-level'].values)"
   ]
  },
  {
   "cell_type": "code",
   "execution_count": 40,
   "id": "reverse-monthly",
   "metadata": {},
   "outputs": [
    {
     "data": {
      "text/plain": [
       "tensor([3, 6, 6, 5, 6, 6])"
      ]
     },
     "execution_count": 40,
     "metadata": {},
     "output_type": "execute_result"
    }
   ],
   "source": [
    "level"
   ]
  },
  {
   "cell_type": "code",
   "execution_count": 60,
   "id": "exceptional-pursuit",
   "metadata": {},
   "outputs": [],
   "source": [
    "outp = result_transform.convert_continuous(logit.to('cuda'))"
   ]
  },
  {
   "cell_type": "code",
   "execution_count": 75,
   "id": "better-backing",
   "metadata": {},
   "outputs": [],
   "source": [
    "loss= criterion(outp.cpu(),level)"
   ]
  },
  {
   "cell_type": "code",
   "execution_count": 66,
   "id": "federal-surgery",
   "metadata": {},
   "outputs": [
    {
     "data": {
      "text/plain": [
       "tensor([13., 21., 16., 25., 10.,  0.])"
      ]
     },
     "execution_count": 66,
     "metadata": {},
     "output_type": "execute_result"
    }
   ],
   "source": [
    "result_transform(logit.to('cuda'))"
   ]
  },
  {
   "cell_type": "code",
   "execution_count": 67,
   "id": "electrical-sensitivity",
   "metadata": {},
   "outputs": [],
   "source": [
    "loss_fn = torch.nn.CrossEntropyLoss()"
   ]
  },
  {
   "cell_type": "code",
   "execution_count": 78,
   "id": "alpha-huntington",
   "metadata": {},
   "outputs": [
    {
     "data": {
      "text/plain": [
       "tensor(3.9285, grad_fn=<NllLossBackward>)"
      ]
     },
     "execution_count": 78,
     "metadata": {},
     "output_type": "execute_result"
    }
   ],
   "source": [
    "loss_fn(logit.cpu(),level)"
   ]
  },
  {
   "cell_type": "code",
   "execution_count": null,
   "id": "classical-suicide",
   "metadata": {},
   "outputs": [],
   "source": []
  }
 ],
 "metadata": {
  "kernelspec": {
   "display_name": "Python 3",
   "language": "python",
   "name": "python3"
  },
  "language_info": {
   "codemirror_mode": {
    "name": "ipython",
    "version": 3
   },
   "file_extension": ".py",
   "mimetype": "text/x-python",
   "name": "python",
   "nbconvert_exporter": "python",
   "pygments_lexer": "ipython3",
   "version": "3.6.12"
  }
 },
 "nbformat": 4,
 "nbformat_minor": 5
}
