{
 "cells": [
  {
   "cell_type": "code",
   "execution_count": 1,
   "id": "alert-hybrid",
   "metadata": {},
   "outputs": [],
   "source": [
    "%load_ext autoreload\n",
    "%autoreload 2"
   ]
  },
  {
   "cell_type": "code",
   "execution_count": 2,
   "id": "coordinated-bonus",
   "metadata": {},
   "outputs": [],
   "source": [
    "import argparse\n",
    "import pandas as pd\n",
    "import numpy as np\n",
    "import warnings\n",
    "warnings.filterwarnings('ignore')\n",
    "import torch\n",
    "import torch.nn as nn\n",
    "from torch import optim"
   ]
  },
  {
   "cell_type": "code",
   "execution_count": 3,
   "id": "occupied-variety",
   "metadata": {},
   "outputs": [],
   "source": [
    "from utils_DRD import get_repr_DTI"
   ]
  },
  {
   "cell_type": "code",
   "execution_count": 4,
   "id": "egyptian-relief",
   "metadata": {},
   "outputs": [],
   "source": [
    "from data_tool_box_DRD import str2bool, load_pkl\n",
    "# from DTI_meta_MAML_DRD import meta_DTI_MAML\n",
    "from models_MAML import DTI_model_MAML"
   ]
  },
  {
   "cell_type": "code",
   "execution_count": 5,
   "id": "alert-research",
   "metadata": {},
   "outputs": [],
   "source": [
    "parser=argparse.ArgumentParser()\n",
    "parser.add_argument('--frozen',default=\"none\",type=str)\n",
    "parser.add_argument('--cwd',default=\"../\",type=str)\n",
    "parser.add_argument('--batch_size',default=6,type=int)\n",
    "parser.add_argument('--meta_lr',default=1e-3,type=float)\n",
    "parser.add_argument('--global_MAML_step', default=20, type=int,\n",
    "                    help='Number of global training steps, i.e. numberf of mini-batches ')\n",
    "parser.add_argument('--val_range',default=1,type=int)\n",
    "opt= parser.parse_args('')"
   ]
  },
  {
   "cell_type": "code",
   "execution_count": 6,
   "id": "silent-stanford",
   "metadata": {},
   "outputs": [],
   "source": [
    "args = {}\n",
    "args.update(vars(opt))"
   ]
  },
  {
   "cell_type": "code",
   "execution_count": 7,
   "id": "arranged-spider",
   "metadata": {},
   "outputs": [],
   "source": [
    "train = pd.read_csv('../data/train_set.csv')\n",
    "\n",
    "test=pd.read_csv('../data/test_set.csv')"
   ]
  },
  {
   "cell_type": "code",
   "execution_count": 36,
   "id": "gentle-paste",
   "metadata": {},
   "outputs": [
    {
     "name": "stdout",
     "output_type": "stream",
     "text": [
      "loaded DISAE :)\n"
     ]
    }
   ],
   "source": [
    "model = DTI_model_MAML(all_config=args).to('cuda').double()"
   ]
  },
  {
   "cell_type": "code",
   "execution_count": 9,
   "id": "lined-mobile",
   "metadata": {},
   "outputs": [],
   "source": [
    "criterion=nn.MSELoss(reduction='mean')\n",
    "# loss_fn = torch.nn.CrossEntropyLoss()"
   ]
  },
  {
   "cell_type": "code",
   "execution_count": 10,
   "id": "prompt-gospel",
   "metadata": {},
   "outputs": [],
   "source": [
    "tokenizer = model.prot_tokenizer"
   ]
  },
  {
   "cell_type": "code",
   "execution_count": 11,
   "id": "established-purple",
   "metadata": {},
   "outputs": [],
   "source": [
    "chem_dict = pd.Series(load_pkl( args['cwd']+'data/ChEMBLE26/chemical/ikey2smiles_ChEMBLE.pkl'))\n",
    "protein_dict = pd.Series(load_pkl(args['cwd']+'data/ChEMBLE26/protein/unipfam2triplet.pkl'))\n"
   ]
  },
  {
   "cell_type": "code",
   "execution_count": 12,
   "id": "downtown-action",
   "metadata": {},
   "outputs": [],
   "source": [
    "meta_optim = optim.Adam(model.parameters(), lr=args['meta_lr'])\n",
    "scheduler = torch.optim.lr_scheduler.CosineAnnealingLR(meta_optim, T_max=10)"
   ]
  },
  {
   "cell_type": "code",
   "execution_count": 38,
   "id": "circular-truck",
   "metadata": {},
   "outputs": [],
   "source": [
    "train_classic_performance = {'loss': [], 'overall': []}"
   ]
  },
  {
   "cell_type": "code",
   "execution_count": 32,
   "id": "incoming-transaction",
   "metadata": {},
   "outputs": [
    {
     "data": {
      "text/plain": [
       "torch.float32"
      ]
     },
     "execution_count": 32,
     "metadata": {},
     "output_type": "execute_result"
    }
   ],
   "source": [
    "loss.dtype"
   ]
  },
  {
   "cell_type": "code",
   "execution_count": 35,
   "id": "unlikely-confidence",
   "metadata": {},
   "outputs": [
    {
     "data": {
      "text/plain": [
       "torch.float32"
      ]
     },
     "execution_count": 35,
     "metadata": {},
     "output_type": "execute_result"
    }
   ],
   "source": [
    "loss.float().dtype"
   ]
  },
  {
   "cell_type": "code",
   "execution_count": 39,
   "id": "massive-festival",
   "metadata": {},
   "outputs": [
    {
     "name": "stdout",
     "output_type": "stream",
     "text": [
      "0\n",
      "1\n",
      "2\n",
      "3\n",
      "4\n",
      "5\n",
      "6\n",
      "7\n",
      "8\n",
      "9\n",
      "10\n",
      "11\n",
      "12\n",
      "13\n",
      "14\n",
      "15\n",
      "16\n",
      "17\n",
      "18\n",
      "19\n"
     ]
    }
   ],
   "source": [
    "for step in range(args['global_MAML_step']):\n",
    "    model.train()\n",
    "    print(step)\n",
    "    batch = train.sample(args['batch_size'])\n",
    "    chem_graph, protein_tokenized = get_repr_DTI(batch, tokenizer, chem_dict, protein_dict, 'DISAE')\n",
    "    logit = model(protein_tokenized.to('cuda'),chem_graph.to('cuda'))\n",
    "#     label = transform(batch['BEL-level'].values)\n",
    "#     level = torch.tensor(batch['BEL-level'].values)\n",
    "#     outp = result_transform.convert_continuous(logit.to('cuda'))\n",
    "#     loss = loss_fn(logit.cpu(),level)\n",
    "    loss= criterion(logit.cpu(),torch.tensor(batch['ic_value'].values))\n",
    "    meta_optim.zero_grad()\n",
    "    loss.backward()\n",
    "    meta_optim.step()\n",
    "    scheduler.step()\n",
    "    train_classic_performance['loss'].append(loss.detach().cpu().item())"
   ]
  },
  {
   "cell_type": "markdown",
   "id": "broadband-arbitration",
   "metadata": {},
   "source": [
    "# plot"
   ]
  },
  {
   "cell_type": "code",
   "execution_count": 40,
   "id": "intelligent-affiliation",
   "metadata": {},
   "outputs": [],
   "source": [
    "import matplotlib.pyplot as plt"
   ]
  },
  {
   "cell_type": "code",
   "execution_count": 41,
   "id": "chubby-valuation",
   "metadata": {},
   "outputs": [
    {
     "data": {
      "text/plain": [
       "[<matplotlib.lines.Line2D at 0x197a7745c88>]"
      ]
     },
     "execution_count": 41,
     "metadata": {},
     "output_type": "execute_result"
    },
    {
     "data": {
      "image/png": "[encoded data removed]",
      "text/plain": [
       "<Figure size 432x288 with 1 Axes>"
      ]
     },
     "metadata": {
      "needs_background": "light"
     },
     "output_type": "display_data"
    }
   ],
   "source": [
    "plt.plot(range(len(train_classic_performance['loss'])), train_classic_performance['loss'])"
   ]
  },
  {
   "cell_type": "code",
   "execution_count": 42,
   "id": "running-matthew",
   "metadata": {},
   "outputs": [
    {
     "data": {
      "text/plain": [
       "[66272606.727438584,\n",
       " 620032817.9732764,\n",
       " 36219697.83325574,\n",
       " 8456840080313.564,\n",
       " 10416669008.15908,\n",
       " 269893547.6149056,\n",
       " 388898480.6882363,\n",
       " 16670637.999838706,\n",
       " 11872.167619464608,\n",
       " 16666955.174026778,\n",
       " 168360622680.23596,\n",
       " 1676317780.4860272,\n",
       " 72025076.92613272,\n",
       " 1005290400.4666276,\n",
       " 579719961.1665894,\n",
       " 80789545.3331951,\n",
       " 41671180026.748505,\n",
       " 915701.1120153868,\n",
       " 171245966.66659722,\n",
       " 22572.06382649324]"
      ]
     },
     "execution_count": 42,
     "metadata": {},
     "output_type": "execute_result"
    }
   ],
   "source": [
    "train_classic_performance['loss']"
   ]
  },
  {
   "cell_type": "markdown",
   "id": "public-spoke",
   "metadata": {},
   "source": [
    "# dissect"
   ]
  },
  {
   "cell_type": "code",
   "execution_count": 13,
   "id": "pressed-rider",
   "metadata": {},
   "outputs": [],
   "source": [
    "batch = train.sample(args['batch_size'])"
   ]
  },
  {
   "cell_type": "code",
   "execution_count": 14,
   "id": "rapid-harvey",
   "metadata": {},
   "outputs": [
    {
     "data": {
      "text/html": [
       "<div>\n",
       "<style scoped>\n",
       "    .dataframe tbody tr th:only-of-type {\n",
       "        vertical-align: middle;\n",
       "    }\n",
       "\n",
       "    .dataframe tbody tr th {\n",
       "        vertical-align: top;\n",
       "    }\n",
       "\n",
       "    .dataframe thead th {\n",
       "        text-align: right;\n",
       "    }\n",
       "</style>\n",
       "<table border=\"1\" class=\"dataframe\">\n",
       "  <thead>\n",
       "    <tr style=\"text-align: right;\">\n",
       "      <th></th>\n",
       "      <th>InChIKey</th>\n",
       "      <th>SMILES</th>\n",
       "      <th>uniprot+pfam</th>\n",
       "      <th>ic_value</th>\n",
       "      <th>ic_str</th>\n",
       "      <th>sentence_len</th>\n",
       "      <th>log(ic)</th>\n",
       "      <th>BEL-level</th>\n",
       "    </tr>\n",
       "  </thead>\n",
       "  <tbody>\n",
       "    <tr>\n",
       "      <th>14941</th>\n",
       "      <td>AEGMQTAGVURKHK-CKNUHMDMSA-N</td>\n",
       "      <td>CC[C@H](C)[C@@H]1NC(=O)[C@H](Cc2ccc(O)cc2)NC(=...</td>\n",
       "      <td>P30559|PF00001</td>\n",
       "      <td>7.0</td>\n",
       "      <td>7.0</td>\n",
       "      <td>17</td>\n",
       "      <td>1.945910</td>\n",
       "      <td>3</td>\n",
       "    </tr>\n",
       "    <tr>\n",
       "      <th>12681</th>\n",
       "      <td>WVDFTSHLRHONNQ-UHFFFAOYSA-N</td>\n",
       "      <td>Cc1ccc(S(=O)(=O)N2CCC(C(=O)Nc3ccccc3C)CC2)c(C)c1</td>\n",
       "      <td>P34913|PF00561</td>\n",
       "      <td>20.0</td>\n",
       "      <td>20.0</td>\n",
       "      <td>18</td>\n",
       "      <td>2.995732</td>\n",
       "      <td>4</td>\n",
       "    </tr>\n",
       "    <tr>\n",
       "      <th>1366</th>\n",
       "      <td>BBTANPTXEJOKGM-OEAKJJBVSA-N</td>\n",
       "      <td>C/C(CC1CCC2C3CCC4=CC(=O)CCC4(C)C3CCC12C)=N\\\\O</td>\n",
       "      <td>P18405|PF02544</td>\n",
       "      <td>900.0</td>\n",
       "      <td>900.0</td>\n",
       "      <td>17</td>\n",
       "      <td>6.802395</td>\n",
       "      <td>5</td>\n",
       "    </tr>\n",
       "    <tr>\n",
       "      <th>2723</th>\n",
       "      <td>RODBHZMFOOEMOU-UHFFFAOYSA-N</td>\n",
       "      <td>CN(C)C(=O)c1ccc(-c2cc(-c3ccsc3)cnc2N)cc1</td>\n",
       "      <td>O96017|PF00069</td>\n",
       "      <td>6100.0</td>\n",
       "      <td>6100.0</td>\n",
       "      <td>6</td>\n",
       "      <td>8.716044</td>\n",
       "      <td>6</td>\n",
       "    </tr>\n",
       "    <tr>\n",
       "      <th>16108</th>\n",
       "      <td>TYYQIBDJBZYMOH-MPQUPPDSSA-N</td>\n",
       "      <td>CCOc1ccc(C[C@@H](NC(=O)c2cccc3ccccc23)C(=O)N[C...</td>\n",
       "      <td>P03952|PF00089</td>\n",
       "      <td>83.0</td>\n",
       "      <td>83.0</td>\n",
       "      <td>4</td>\n",
       "      <td>4.418841</td>\n",
       "      <td>4</td>\n",
       "    </tr>\n",
       "    <tr>\n",
       "      <th>21185</th>\n",
       "      <td>KDNSQBSCUAOXCF-UHFFFAOYSA-N</td>\n",
       "      <td>Fc1ccc(Nc2nc(N3CCN(c4ccccc4)CC3)nc3[nH]ncc23)cc1</td>\n",
       "      <td>P28335|PF00001</td>\n",
       "      <td>416.0</td>\n",
       "      <td>416.0</td>\n",
       "      <td>18</td>\n",
       "      <td>6.030685</td>\n",
       "      <td>5</td>\n",
       "    </tr>\n",
       "  </tbody>\n",
       "</table>\n",
       "</div>"
      ],
      "text/plain": [
       "                          InChIKey  \\\n",
       "14941  AEGMQTAGVURKHK-CKNUHMDMSA-N   \n",
       "12681  WVDFTSHLRHONNQ-UHFFFAOYSA-N   \n",
       "1366   BBTANPTXEJOKGM-OEAKJJBVSA-N   \n",
       "2723   RODBHZMFOOEMOU-UHFFFAOYSA-N   \n",
       "16108  TYYQIBDJBZYMOH-MPQUPPDSSA-N   \n",
       "21185  KDNSQBSCUAOXCF-UHFFFAOYSA-N   \n",
       "\n",
       "                                                  SMILES    uniprot+pfam  \\\n",
       "14941  CC[C@H](C)[C@@H]1NC(=O)[C@H](Cc2ccc(O)cc2)NC(=...  P30559|PF00001   \n",
       "12681   Cc1ccc(S(=O)(=O)N2CCC(C(=O)Nc3ccccc3C)CC2)c(C)c1  P34913|PF00561   \n",
       "1366       C/C(CC1CCC2C3CCC4=CC(=O)CCC4(C)C3CCC12C)=N\\\\O  P18405|PF02544   \n",
       "2723            CN(C)C(=O)c1ccc(-c2cc(-c3ccsc3)cnc2N)cc1  O96017|PF00069   \n",
       "16108  CCOc1ccc(C[C@@H](NC(=O)c2cccc3ccccc23)C(=O)N[C...  P03952|PF00089   \n",
       "21185   Fc1ccc(Nc2nc(N3CCN(c4ccccc4)CC3)nc3[nH]ncc23)cc1  P28335|PF00001   \n",
       "\n",
       "       ic_value  ic_str  sentence_len   log(ic)  BEL-level  \n",
       "14941       7.0     7.0            17  1.945910          3  \n",
       "12681      20.0    20.0            18  2.995732          4  \n",
       "1366      900.0   900.0            17  6.802395          5  \n",
       "2723     6100.0  6100.0             6  8.716044          6  \n",
       "16108      83.0    83.0             4  4.418841          4  \n",
       "21185     416.0   416.0            18  6.030685          5  "
      ]
     },
     "execution_count": 14,
     "metadata": {},
     "output_type": "execute_result"
    }
   ],
   "source": [
    "batch"
   ]
  },
  {
   "cell_type": "code",
   "execution_count": 15,
   "id": "moral-contractor",
   "metadata": {},
   "outputs": [],
   "source": [
    "chem_graph,protein_tokenized = get_repr_DTI(batch,tokenizer,chem_dict,protein_dict,'DISAE')"
   ]
  },
  {
   "cell_type": "code",
   "execution_count": 16,
   "id": "boring-fault",
   "metadata": {},
   "outputs": [
    {
     "data": {
      "text/plain": [
       "Batch(batch=[221], edge_attr=[476, 2], edge_index=[2, 476], x=[221, 6])"
      ]
     },
     "execution_count": 16,
     "metadata": {},
     "output_type": "execute_result"
    }
   ],
   "source": [
    "chem_graph.to('cuda')"
   ]
  },
  {
   "cell_type": "code",
   "execution_count": 17,
   "id": "weird-determination",
   "metadata": {},
   "outputs": [],
   "source": [
    "logit = model(protein_tokenized.to('cuda'),chem_graph.to('cuda'))"
   ]
  },
  {
   "cell_type": "code",
   "execution_count": 18,
   "id": "roman-memphis",
   "metadata": {},
   "outputs": [
    {
     "data": {
      "text/plain": [
       "torch.Size([6, 1])"
      ]
     },
     "execution_count": 18,
     "metadata": {},
     "output_type": "execute_result"
    }
   ],
   "source": [
    "logit.shape"
   ]
  },
  {
   "cell_type": "code",
   "execution_count": 25,
   "id": "proud-spanking",
   "metadata": {},
   "outputs": [],
   "source": [
    "loss= criterion(logit.cpu(),torch.tensor(batch['ic_value'].values))"
   ]
  },
  {
   "cell_type": "code",
   "execution_count": 26,
   "id": "younger-motel",
   "metadata": {},
   "outputs": [
    {
     "data": {
      "text/plain": [
       "tensor(6366733.3332, dtype=torch.float64, grad_fn=<MseLossBackward>)"
      ]
     },
     "execution_count": 26,
     "metadata": {},
     "output_type": "execute_result"
    }
   ],
   "source": [
    "loss\n"
   ]
  },
  {
   "cell_type": "code",
   "execution_count": null,
   "id": "universal-trial",
   "metadata": {},
   "outputs": [],
   "source": []
  }
 ],
 "metadata": {
  "kernelspec": {
   "display_name": "Python 3",
   "language": "python",
   "name": "python3"
  },
  "language_info": {
   "codemirror_mode": {
    "name": "ipython",
    "version": 3
   },
   "file_extension": ".py",
   "mimetype": "text/x-python",
   "name": "python",
   "nbconvert_exporter": "python",
   "pygments_lexer": "ipython3",
   "version": "3.6.12"
  }
 },
 "nbformat": 4,
 "nbformat_minor": 5
}
