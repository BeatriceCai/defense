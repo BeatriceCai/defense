{
 "cells": [
  {
   "cell_type": "code",
   "execution_count": 3,
   "id": "civic-recruitment",
   "metadata": {},
   "outputs": [],
   "source": [
    "from data_tool_box_DRD import load_pkl\n",
    "import matplotlib.pyplot as plt"
   ]
  },
  {
   "cell_type": "code",
   "execution_count": 4,
   "id": "tutorial-spain",
   "metadata": {},
   "outputs": [],
   "source": [
    "path='../exp_vanilla_logs/exp20-07-2023-01-47-15/'"
   ]
  },
  {
   "cell_type": "code",
   "execution_count": 5,
   "id": "alive-mambo",
   "metadata": {},
   "outputs": [],
   "source": [
    "perform = load_pkl(path+'train_classic_performance.pkl')"
   ]
  },
  {
   "cell_type": "code",
   "execution_count": 6,
   "id": "competent-leather",
   "metadata": {},
   "outputs": [
    {
     "data": {
      "text/plain": [
       "42001"
      ]
     },
     "execution_count": 6,
     "metadata": {},
     "output_type": "execute_result"
    }
   ],
   "source": [
    "len(perform['loss'])"
   ]
  },
  {
   "cell_type": "code",
   "execution_count": 7,
   "id": "married-cowboy",
   "metadata": {},
   "outputs": [
    {
     "data": {
      "text/plain": [
       "[<matplotlib.lines.Line2D at 0x1ec1ba11c18>]"
      ]
     },
     "execution_count": 7,
     "metadata": {},
     "output_type": "execute_result"
    },
    {
     "data": {
      "image/png": "[encoded data removed]",
      "text/plain": [
       "<Figure size 432x288 with 1 Axes>"
      ]
     },
     "metadata": {
      "needs_background": "light"
     },
     "output_type": "display_data"
    }
   ],
   "source": [
    "plt.plot(range(len(perform['loss'])), perform['loss'])"
   ]
  },
  {
   "cell_type": "code",
   "execution_count": null,
   "id": "delayed-favor",
   "metadata": {},
   "outputs": [],
   "source": []
  }
 ],
 "metadata": {
  "kernelspec": {
   "display_name": "Python 3",
   "language": "python",
   "name": "python3"
  },
  "language_info": {
   "codemirror_mode": {
    "name": "ipython",
    "version": 3
   },
   "file_extension": ".py",
   "mimetype": "text/x-python",
   "name": "python",
   "nbconvert_exporter": "python",
   "pygments_lexer": "ipython3",
   "version": "3.6.12"
  }
 },
 "nbformat": 4,
 "nbformat_minor": 5
}
